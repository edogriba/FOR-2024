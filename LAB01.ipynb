{
  "cells": [
    {
      "cell_type": "markdown",
      "metadata": {
        "id": "view-in-github",
        "colab_type": "text"
      },
      "source": [
        "<a href=\"https://colab.research.google.com/github/edogriba/FOR-2024/blob/main/LAB01.ipynb\" target=\"_parent\"><img src=\"https://colab.research.google.com/assets/colab-badge.svg\" alt=\"Open In Colab\"/></a>"
      ]
    },
    {
      "cell_type": "markdown",
      "metadata": {
        "id": "Zu7wbXF0g23x"
      },
      "source": [
        "## Diet problem\n",
        "\n",
        "A canteen has to plan the composition of the meals that it provides. A meal can be composed of the types of food indicated in the following table. Costs, in Euro per hg, and availabilities, in hg, are also indicated.\n",
        "\n",
        "Food|Cost|Availability\n",
        "----|----|------------\n",
        "Bread|0.1|4\n",
        "Milk|0.5|3\n",
        "Eggs|0.12|1\n",
        "Meat|0.9|2\n",
        "Cake|1.3|2\n",
        "\n",
        "A meal must contain at least the following amount of each nutrient\n",
        "\n",
        "Nutrient|Minimal quantity\n",
        "--------|----------------\n",
        "Calories|600 cal\n",
        "Proteins|50 g\n",
        "Calcium|0.7 g\n",
        "\n",
        "Each hg of each type of food contains to following amount of nutrients\n",
        "\n",
        "Food|Calories|Proteins|Calcium\n",
        "----|--------|--------|-------\n",
        "Bread|30 cal|5 g|0.02 g\n",
        "Milk|50 cal|15 g|0.15 g\n",
        "Eggs|150 cal|30 g|0.05 g\n",
        "Meat|180 cal|90 g|0.08 g\n",
        "Cake|400 cal|70 g|0.01 g\n",
        "\n",
        "Give a linear programming formulation for the problem of finding a diet (a meal) of minimum total cost which satisfies the minimum nutrient requirements."
      ]
    },
    {
      "cell_type": "code",
      "execution_count": 1,
      "metadata": {
        "colab": {
          "base_uri": "https://localhost:8080/"
        },
        "id": "rpzqCB4zg23y",
        "outputId": "dfcf1c98-6d2e-445d-d1d2-3fad86dbc066"
      },
      "outputs": [
        {
          "output_type": "stream",
          "name": "stdout",
          "text": [
            "Requirement already satisfied: mip in /usr/local/lib/python3.10/dist-packages (1.15.0)\n",
            "Requirement already satisfied: cffi==1.15.* in /usr/local/lib/python3.10/dist-packages (from mip) (1.15.1)\n",
            "Requirement already satisfied: pycparser in /usr/local/lib/python3.10/dist-packages (from cffi==1.15.*->mip) (2.22)\n"
          ]
        }
      ],
      "source": [
        "# When using Colab, make sure you run this instruction beforehand\n",
        "!pip install mip"
      ]
    },
    {
      "cell_type": "code",
      "execution_count": 5,
      "metadata": {
        "id": "ky-RdQEkg23z",
        "collapsed": true
      },
      "outputs": [],
      "source": [
        "# We need to import the package mip\n",
        "import mip"
      ]
    },
    {
      "cell_type": "markdown",
      "metadata": {
        "id": "WyUwgYmsg23z"
      },
      "source": [
        "1. Sets\n",
        "\n",
        "- $I$ = set of food\n",
        "\n",
        "- $J$ = set of nutrients\n",
        "\n",
        "2. Parameters\n",
        "\n",
        "- $c_i$ = cost of food $i \\in I$\n",
        "\n",
        "- $f_i$ = availability of food $i \\in I$\n",
        "\n",
        "- $b_j$ = min requirement of nutrient $j \\in J$\n",
        "\n",
        "- $a_{ij}$ = amount of nutrient $j \\in J$ in food $i \\in I$\n",
        "\n",
        "3. Decision variables\n",
        "\n",
        "- $x_i$ = amount of food $i \\in I$\n",
        "\n",
        "4. Objective function\n",
        "\n",
        "- min $\\sum_{i}c_i x_i$\n",
        "\n",
        "5. Constraints  such that:\n",
        "\n",
        "- $\\sum_{i=1}^n a_{ij}x_i >= b_j$ for every $j \\in J$ (min requirement)\n",
        "\n",
        "- $x_i <= f_i$ for every $i \\in I$ (availability)\n",
        "\n",
        "- $x_i >= 0$\n"
      ]
    },
    {
      "cell_type": "code",
      "execution_count": null,
      "metadata": {
        "id": "Ab25yc_jg230"
      },
      "outputs": [],
      "source": [
        "# Dictionaries\n",
        "\n",
        "# D = { key: value }\n",
        "# L = {key}"
      ]
    },
    {
      "cell_type": "code",
      "execution_count": 2,
      "metadata": {
        "id": "emiHieGMkTVg"
      },
      "outputs": [],
      "source": [
        "# Food --> Set of food items\n",
        "I = {'Bread', 'Milk', 'Eggs', 'Meat', 'Cake'}\n",
        "\n",
        "# Nutrients --> Set of nutrients\n",
        "J = {'Calories', 'Proteins', 'Calcium'}\n",
        "\n",
        "# Cost in Euro per hg of food\n",
        "c = {'Bread': 0.1, 'Milk':0.5, 'Eggs': 0.12,'Meat': 0.9, 'Cake': 1.3}\n",
        "\n",
        "# Availability per hg of food\n",
        "q = {'Bread': 4, 'Milk':3, 'Eggs': 1,'Meat': 2, 'Cake': 2}\n",
        "\n",
        "# minum nutrients\n",
        "b = {'Calories': 600, 'Proteins': 50, 'Calcium': 0.7}\n",
        "\n",
        "\n",
        "# Nutrients per hf of food\n",
        "a = {('Bread','Calories'):30,('Milk','Calories'):50,('Eggs','Calories'):150,('Meat','Calories'):180,('Cake','Calories'):400,\n",
        "('Bread','Proteins'):5,('Milk','Proteins'):15,('Eggs','Proteins'):30,('Meat','Proteins'):90,('Cake','Proteins'):70,\n",
        "('Bread','Calcium'):0.02,('Milk','Calcium'):0.15,('Eggs','Calcium'):0.05,('Meat','Calcium'):0.08,('Cake','Calcium'):0.01}"
      ]
    },
    {
      "cell_type": "code",
      "execution_count": 3,
      "metadata": {
        "colab": {
          "base_uri": "https://localhost:8080/"
        },
        "id": "JqViCv5Ig230",
        "outputId": "b8021593-c331-4c04-9344-e9f4df1905e7"
      },
      "outputs": [
        {
          "output_type": "stream",
          "name": "stdout",
          "text": [
            "0.12\n",
            "0.9\n",
            "1.3\n",
            "0.1\n",
            "0.5\n"
          ]
        }
      ],
      "source": [
        "for i in I:\n",
        "    print(c[i])"
      ]
    },
    {
      "cell_type": "markdown",
      "metadata": {
        "id": "hezZcLCZg230"
      },
      "source": [
        "Now we create an empty model and add the variables"
      ]
    },
    {
      "cell_type": "code",
      "execution_count": 6,
      "metadata": {
        "id": "pSvGnxiao6Zl"
      },
      "outputs": [],
      "source": [
        "# Define a model\n",
        "model = mip.Model() # create an empty model\n",
        "\n",
        "# Define variables --> we'll create them as dictionaries\n",
        "## x = [model.add_var(name = i,lb=0) for i in I]\n",
        "x = {i: model.add_var(name = i) for i in I} # name --> gives a name lb stands for lower bound, both are optional arguments"
      ]
    },
    {
      "cell_type": "markdown",
      "metadata": {
        "id": "CxL9x9kog230"
      },
      "source": [
        "Let's write the objective function: in the general case, it can be written as a sum over the set of models."
      ]
    },
    {
      "cell_type": "code",
      "execution_count": 7,
      "metadata": {
        "id": "GM2sOSkJpVza"
      },
      "outputs": [],
      "source": [
        "# Define the objective function\n",
        "model.objective = mip.minimize(mip.xsum(c[i]*x[i] for i in I))"
      ]
    },
    {
      "cell_type": "code",
      "source": [
        "# List x = [[], [], []]\n",
        "# Dict x[,]"
      ],
      "metadata": {
        "id": "JnRLMCIMhvzI"
      },
      "execution_count": null,
      "outputs": []
    },
    {
      "cell_type": "markdown",
      "metadata": {
        "id": "8DDgCN64g231"
      },
      "source": [
        "The constraints can be generated in loops:"
      ]
    },
    {
      "cell_type": "code",
      "execution_count": 8,
      "metadata": {
        "id": "JeNTerfsqFjS"
      },
      "outputs": [],
      "source": [
        "# CONSTRAINTS\n",
        "\n",
        "# Availability constraint\n",
        "for i in I:\n",
        "  model.add_constr(x[i] <= q[i])\n",
        "\n",
        "# Minimum of nutrients\n",
        "for j in J:\n",
        "  model.add_constr(mip.xsum(a[i, j]*x[i] for i in I) >= b[j])"
      ]
    },
    {
      "cell_type": "markdown",
      "metadata": {
        "id": "eRkN81mIg231"
      },
      "source": [
        "The model is complete. Let's solve it and print the optimal solution."
      ]
    },
    {
      "cell_type": "code",
      "execution_count": 9,
      "metadata": {
        "colab": {
          "base_uri": "https://localhost:8080/"
        },
        "id": "u2EOpR5zrlfr",
        "outputId": "dae1ba4e-dc6a-42b0-81e5-2edc7e324708"
      },
      "outputs": [
        {
          "output_type": "execute_result",
          "data": {
            "text/plain": [
              "<OptimizationStatus.OPTIMAL: 0>"
            ]
          },
          "metadata": {},
          "execution_count": 9
        }
      ],
      "source": [
        "# Optimizing command\n",
        "model.optimize()"
      ]
    },
    {
      "cell_type": "code",
      "execution_count": 10,
      "metadata": {
        "colab": {
          "base_uri": "https://localhost:8080/"
        },
        "id": "SptErh70xQFd",
        "outputId": "47466438-e699-484c-caa7-c03108e51763"
      },
      "outputs": [
        {
          "output_type": "execute_result",
          "data": {
            "text/plain": [
              "3.37"
            ]
          },
          "metadata": {},
          "execution_count": 10
        }
      ],
      "source": [
        "# Optimal objective function value\n",
        "model.objective.x"
      ]
    },
    {
      "cell_type": "code",
      "execution_count": 19,
      "metadata": {
        "colab": {
          "base_uri": "https://localhost:8080/"
        },
        "id": "1GmrXIDUxhtA",
        "outputId": "dd52c99a-4fed-4f09-8cfd-5c28d8e6ef90"
      },
      "outputs": [
        {
          "output_type": "stream",
          "name": "stdout",
          "text": [
            "We use: \n",
            "1.0 Eggs\n",
            "1.5 Meat\n",
            "0.0 Cake\n",
            "4.0 Bread\n",
            "3.0 Milk\n"
          ]
        }
      ],
      "source": [
        "# Printing the variables values\n",
        "print(\"We use: \")\n",
        "for i in model.vars:\n",
        "  print(f\"{i.x:.1f} {i.name}\")\n",
        ""
      ]
    },
    {
      "cell_type": "markdown",
      "metadata": {
        "id": "fqBoUMMSg231"
      },
      "source": [
        "## Oil blending problem\n",
        "\n",
        "A refinery has to blend 4 types of oil to obtain 3 types of gasoline. The following table reports the available quantity of oil of each type (in barrels) and the respective unit cost (Euro per barrel)\n",
        "\n",
        "Oil type|Cost|Availability\n",
        "--------|----|------------\n",
        "1|9|5000\n",
        "2|7|2400\n",
        "3|12|4000\n",
        "4|6|1500\n",
        "\n",
        "\n",
        "Blending constraints are to be taken into account, since each type of gasoline must contain at least a specific, predefined, quantity of each type of oil, as indicated in the next table. The unit revenue of each type of gasoline (Euro per barrel) is also indicated\n",
        "\n",
        "Gasoline type|Requirements|Revenue\n",
        "-------------|------------|-------\n",
        "A|$\\geq$ 20% of type 2| 12\n",
        "A|$\\leq$ 30% of type 3|12\n",
        "B|$\\geq$ 40% of type 3|18\n",
        "C|$\\leq$ 50% of type 2|10\n"
      ]
    },
    {
      "cell_type": "markdown",
      "source": [
        "1. Sets\n",
        "\n",
        "- $I$ = types of oil\n",
        "- $J$ = types of gazoline\n",
        "\n",
        "2. Parameters\n",
        "\n",
        "- $c_i$ = cost of oil $i \\in I$\n",
        "- $q_i$ = availability of oil $i \\in I$\n",
        "- $r_j$ = price of gazoline $j \\in J$\n",
        "- $q_{min,ij}$ = minimum amount of oil $i \\in I$ in gazoline $j \\in J$\n",
        "- $q_{max,ij}$ = maximum amount of oil $i \\in I$\n",
        "\n",
        "3. Decision Variables\n",
        "\n",
        "- $x_{ij}$ = amount of oil $i \\in I$ that goes into gazoline $j \\in J$\n",
        "- $y_j$ = amount of gazoline $j \\in J$\n",
        "\n",
        "4. Objective function\n",
        "\n",
        "- max $\\sum_{j}(r_j  y_j)- \\sum_{i}(\\sum_{j}(c_i x_{ij}))$\n",
        "\n",
        "5. Constraints such that:\n",
        "\n",
        "- $\\sum_{i}x_{ij}\\leq q_i$ for every $i \\in I$\n",
        "\n",
        "- $\\sum_{i}x_{ij} = y_j$ for every $j \\in J$\n",
        "\n",
        "- ${x_{ij} \\over y_{ij}} \\geq q_{min, ij}$ for every $i \\in I$ and for every $j \\in J$\n",
        "\n",
        "- ${x_{ij} \\over y_{ij}} \\leq q_{max, ij}$ for every $i \\in I$ and for every $j \\in J$\n",
        "\n",
        "- $x_{ij}, y_{ij} \\geq 0$\n"
      ],
      "metadata": {
        "id": "ZD8mfzs0jTYV"
      }
    },
    {
      "cell_type": "code",
      "execution_count": 21,
      "metadata": {
        "id": "gmkwYSMWg231"
      },
      "outputs": [],
      "source": [
        "# Set of oil types\n",
        "I = {1, 2, 3, 4}\n",
        "\n",
        "# Set of gasoline types\n",
        "J = {\"A\", \"B\", \"C\"}\n",
        "\n",
        "# Unit cost for oil of type i\n",
        "c = {1: 9, 2: 7, 3: 12, 4: 6}\n",
        "\n",
        "# Availability of oil type i\n",
        "b = {1: 5000, 2: 2400, 3: 4000, 4: 1500}\n",
        "\n",
        "# Price of gasoline of type j\n",
        "r = {'A': 12, 'B': 18, 'C': 10}\n",
        "\n",
        "# Maximum quantity (percentage) of oil\n",
        "q_max = {}\n",
        "for i in I:\n",
        "  for j in J:\n",
        "    q_max[(str(i),j)] = 1\n",
        "q_max[('2','A')] = 0.3\n",
        "q_max[('1','C')] = 0.5\n",
        "\n",
        "# Minimum quantity (percentage) of oil\n",
        "q_min = {}\n",
        "for i in I:\n",
        "  for j in J:\n",
        "    q_min[(str(i),j)] = 0\n",
        "q_min[('1','A')] = 0.2\n",
        "q_min[('2','B')] = 0.4"
      ]
    },
    {
      "cell_type": "markdown",
      "metadata": {
        "id": "sMGH0n5jg231"
      },
      "source": [
        "Now we create an empty model and add the variables"
      ]
    },
    {
      "cell_type": "code",
      "execution_count": 24,
      "metadata": {
        "id": "Cr9gqz99g231",
        "colab": {
          "base_uri": "https://localhost:8080/",
          "height": 292
        },
        "outputId": "3d7a0fd8-4ba2-4498-d5fc-421aadc383d2"
      },
      "outputs": [
        {
          "output_type": "error",
          "ename": "KeyError",
          "evalue": "(1, 'B')",
          "traceback": [
            "\u001b[0;31m---------------------------------------------------------------------------\u001b[0m",
            "\u001b[0;31mKeyError\u001b[0m                                  Traceback (most recent call last)",
            "\u001b[0;32m<ipython-input-24-79a774a5a83e>\u001b[0m in \u001b[0;36m<cell line: 5>\u001b[0;34m()\u001b[0m\n\u001b[1;32m      3\u001b[0m \u001b[0;34m\u001b[0m\u001b[0m\n\u001b[1;32m      4\u001b[0m \u001b[0;31m# Define variables\u001b[0m\u001b[0;34m\u001b[0m\u001b[0;34m\u001b[0m\u001b[0m\n\u001b[0;32m----> 5\u001b[0;31m \u001b[0mx\u001b[0m \u001b[0;34m=\u001b[0m \u001b[0;34m{\u001b[0m\u001b[0;34m(\u001b[0m\u001b[0mi\u001b[0m\u001b[0;34m,\u001b[0m \u001b[0mj\u001b[0m\u001b[0;34m)\u001b[0m\u001b[0;34m:\u001b[0m \u001b[0mq_min\u001b[0m\u001b[0;34m[\u001b[0m\u001b[0;34m(\u001b[0m\u001b[0ma\u001b[0m\u001b[0;34m,\u001b[0m \u001b[0mb\u001b[0m\u001b[0;34m)\u001b[0m\u001b[0;34m]\u001b[0m \u001b[0;32mfor\u001b[0m \u001b[0ma\u001b[0m \u001b[0;32min\u001b[0m \u001b[0mI\u001b[0m \u001b[0;32mfor\u001b[0m \u001b[0mb\u001b[0m \u001b[0;32min\u001b[0m \u001b[0mJ\u001b[0m\u001b[0;34m}\u001b[0m\u001b[0;34m\u001b[0m\u001b[0;34m\u001b[0m\u001b[0m\n\u001b[0m\u001b[1;32m      6\u001b[0m \u001b[0my\u001b[0m \u001b[0;34m=\u001b[0m \u001b[0;34m{\u001b[0m\u001b[0mj\u001b[0m\u001b[0;34m:\u001b[0m \u001b[0me\u001b[0m \u001b[0;32mfor\u001b[0m \u001b[0me\u001b[0m \u001b[0;32min\u001b[0m \u001b[0mJ\u001b[0m\u001b[0;34m}\u001b[0m\u001b[0;34m\u001b[0m\u001b[0;34m\u001b[0m\u001b[0m\n",
            "\u001b[0;32m<ipython-input-24-79a774a5a83e>\u001b[0m in \u001b[0;36m<dictcomp>\u001b[0;34m(.0)\u001b[0m\n\u001b[1;32m      3\u001b[0m \u001b[0;34m\u001b[0m\u001b[0m\n\u001b[1;32m      4\u001b[0m \u001b[0;31m# Define variables\u001b[0m\u001b[0;34m\u001b[0m\u001b[0;34m\u001b[0m\u001b[0m\n\u001b[0;32m----> 5\u001b[0;31m \u001b[0mx\u001b[0m \u001b[0;34m=\u001b[0m \u001b[0;34m{\u001b[0m\u001b[0;34m(\u001b[0m\u001b[0mi\u001b[0m\u001b[0;34m,\u001b[0m \u001b[0mj\u001b[0m\u001b[0;34m)\u001b[0m\u001b[0;34m:\u001b[0m \u001b[0mq_min\u001b[0m\u001b[0;34m[\u001b[0m\u001b[0;34m(\u001b[0m\u001b[0ma\u001b[0m\u001b[0;34m,\u001b[0m \u001b[0mb\u001b[0m\u001b[0;34m)\u001b[0m\u001b[0;34m]\u001b[0m \u001b[0;32mfor\u001b[0m \u001b[0ma\u001b[0m \u001b[0;32min\u001b[0m \u001b[0mI\u001b[0m \u001b[0;32mfor\u001b[0m \u001b[0mb\u001b[0m \u001b[0;32min\u001b[0m \u001b[0mJ\u001b[0m\u001b[0;34m}\u001b[0m\u001b[0;34m\u001b[0m\u001b[0;34m\u001b[0m\u001b[0m\n\u001b[0m\u001b[1;32m      6\u001b[0m \u001b[0my\u001b[0m \u001b[0;34m=\u001b[0m \u001b[0;34m{\u001b[0m\u001b[0mj\u001b[0m\u001b[0;34m:\u001b[0m \u001b[0me\u001b[0m \u001b[0;32mfor\u001b[0m \u001b[0me\u001b[0m \u001b[0;32min\u001b[0m \u001b[0mJ\u001b[0m\u001b[0;34m}\u001b[0m\u001b[0;34m\u001b[0m\u001b[0;34m\u001b[0m\u001b[0m\n",
            "\u001b[0;31mKeyError\u001b[0m: (1, 'B')"
          ]
        }
      ],
      "source": [
        "# Define a model\n",
        "model2 = mip.Model()\n",
        "\n",
        "# Define variables\n",
        "x = {(i, j): q_min[(a, b)] for a in I for b in J}\n",
        "y = {j: e for e in J}"
      ]
    },
    {
      "cell_type": "code",
      "execution_count": null,
      "metadata": {
        "id": "ex-vJgGzg231"
      },
      "outputs": [],
      "source": [
        "# Define the objective function\n",
        "model2.objective = mip.maximize(mip.xsum()-mip.xsum())"
      ]
    },
    {
      "cell_type": "code",
      "execution_count": null,
      "metadata": {
        "id": "M7uy-GNwg231"
      },
      "outputs": [],
      "source": [
        "# CONSTRAINTS\n",
        "# Availability constraint\n",
        "for i in I:\n",
        "  model2.add_constr()\n",
        "\n",
        "# Conservation constraint\n",
        "for j in J:\n",
        "  model2.add_constr()\n",
        "\n",
        "# Maximum quantity\n",
        "for i in I:\n",
        "  for j in J:\n",
        "    model2.add_constr()\n",
        "\n",
        "# Minimum quantity\n",
        "for i in I:\n",
        "  for j in J:\n",
        "    model2.add_constr()"
      ]
    },
    {
      "cell_type": "markdown",
      "metadata": {
        "id": "M0xcOv83g232"
      },
      "source": [
        "The model is complete. Let's solve it and print the optimal solution."
      ]
    },
    {
      "cell_type": "code",
      "execution_count": null,
      "metadata": {
        "id": "TPCx6gOHg232"
      },
      "outputs": [],
      "source": [
        "# Optimizing command\n",
        "model2.optimize()"
      ]
    },
    {
      "cell_type": "code",
      "execution_count": null,
      "metadata": {
        "id": "-iwVq1Big232"
      },
      "outputs": [],
      "source": [
        "# Optimal objective function value\n",
        "model2.objective.x"
      ]
    },
    {
      "cell_type": "code",
      "execution_count": null,
      "metadata": {
        "id": "VnffXBk8g232"
      },
      "outputs": [],
      "source": [
        "# Printing the variables values\n",
        "for i in model2.vars:\n",
        "  print(i.name)\n",
        "  print(i.x)\n",
        "  print('-----')"
      ]
    }
  ],
  "metadata": {
    "colab": {
      "provenance": [],
      "include_colab_link": true
    },
    "kernelspec": {
      "display_name": "myenv",
      "language": "python",
      "name": "python3"
    },
    "language_info": {
      "codemirror_mode": {
        "name": "ipython",
        "version": 3
      },
      "file_extension": ".py",
      "mimetype": "text/x-python",
      "name": "python",
      "nbconvert_exporter": "python",
      "pygments_lexer": "ipython3",
      "version": "3.11.7"
    }
  },
  "nbformat": 4,
  "nbformat_minor": 0
}