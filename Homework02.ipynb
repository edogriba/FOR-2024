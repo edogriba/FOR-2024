{
  "cells": [
    {
      "cell_type": "markdown",
      "metadata": {
        "id": "view-in-github",
        "colab_type": "text"
      },
      "source": [
        "<a href=\"https://colab.research.google.com/github/edogriba/FOR-2024/blob/main/Homework02.ipynb\" target=\"_parent\"><img src=\"https://colab.research.google.com/assets/colab-badge.svg\" alt=\"Open In Colab\"/></a>"
      ]
    },
    {
      "cell_type": "markdown",
      "metadata": {
        "id": "RKRzXfZXz1U0"
      },
      "source": [
        "## Lot sizing\n",
        "\n",
        "A company has to plan the production of 3 products, A1, A2, A3, for a time horizon of four months, from January to April. The working days are: 22 for January, 20 for February, 23 for March, 22 for April.\n",
        "\n",
        "Sales forecasts indicate the following maximum demand, per product and month.\n",
        "\n",
        "\n",
        "Demand|January|February|March|April\n",
        "------|-------|--------|-----|-----\n",
        "A1| 5300| 1200| 7400| 5300\n",
        "A2| 4500| 5400| 6500| 7200\n",
        "A3| 4400| 6700| 12500| 13200\n",
        "\n",
        "The following table reports the price of each product (Euro) and its unit production cost (Euro). It also reports the maximum number of pieces that can be produced in a single day (pieces/day), if the whole production capability of the factory is used to produce units of that product.\n",
        "\n",
        "Product|A1|A2|A3\n",
        "-------|--|--|--\n",
        "Price| 124| 109| 115\n",
        "Production cost| 75| 53| 65\n",
        "Production amount| 500| 450| 550\n",
        "\n",
        "Inventory can be used to store units of unsold product. The inventory cost per month and unit\n",
        "is 3 for product A1, 4 for product A2, and 2 for product A3. Each month, no more than 800\n",
        "total units of the three products can be stored.\n",
        "\n",
        "1. Give an integer linear programming formulation for the problem of determining a production plan that maximizes the total revenue.\n",
        "2. Integrality restrictions are mandatory for this problem, since we are dealing with discrete products. In spite of this, when dealing with problems involving large quantities of product, it is often possible, when dropping the integrality constraints, to obtain solutions that are almost integer. Assess, computationally, the difference between integer and continuous optimal solutions for the original formulation."
      ]
    },
    {
      "cell_type": "markdown",
      "source": [
        "**Sets**\n",
        "\n",
        "$I$ = set of products\n",
        "\n",
        "$J$ = set of months or time periods\n",
        "\n",
        "**Parameters**\n",
        "\n",
        "$b_j$ = working days of J\n",
        "\n",
        "$d_{ij}$ = demand of product $ i \\in I$ of month $ j \\in J$\n",
        "\n",
        "$p_i$ = unit price of product $i \\in I$\n",
        "\n",
        "$c_i$ = unit cost of product $i\\in I$\n",
        "\n",
        "$q_i$ = production limit for product $i \\in I$\n",
        "\n",
        "$f_i$ = inventory cost of product $i \\in I$\n",
        "\n",
        "$K$ = maximum amount of inventory per period\n",
        "\n",
        "**Decision variables**\n",
        "\n",
        "$x_{ij}$ = number of product $i \\in I$ produced in period $j \\in J$\n",
        "\n",
        "$z_{ij}$ = number of inventory of product $ i \\in I$ in period $j \\in J$\n",
        "\n",
        "$v_{ij}$ = number of products $ i \\in I $ sold in period $ j \\in J$\n",
        "\n",
        "All these variables are integers\n",
        "\n",
        "**Objective function**\n",
        "\n",
        "$$ \\max \\sum_{j \\in J} \\sum_{i \\in I} p_i v_{ij}\n",
        " - c_i x_{ij} - f_i z{ij}$$\n",
        "\n",
        " <h3 align=\"center\">Formulation</h3>\n",
        "\n",
        "- Sets\n",
        "    - $I$: products\n",
        "    - $J=$ {1,$\\ldots,n$}: months, $n=4$\n",
        "    \n",
        "- Parameters\n",
        "    - $b_j$: number of working days for month $j \\in J$\n",
        "    - $d_{ij}$: maximum demand for product $i$ in month $j,i\\in I,j \\in J$\n",
        "    - $r_i$: unit price for product $i \\in I$\n",
        "    - $c_i$: unit production cost for product $i \\in I$\n",
        "    - $q_i$: maximum production level for product $i \\in I$\n",
        "    - $m_i$: unit inventory cost, per month, for product $i \\in I $\n",
        "    - $K$: inventory capacity\n",
        "    \n",
        "- Variables\n",
        "    - $x_{ij}$: quantity of product $i$ produced in month $j$, $i \\in I, j \\in J$\n",
        "    - $v_{ij}$: quantity of product $i$ sold in month $j$, $i \\in I, j \\in J$\n",
        "    - $z_{ij}$: quantity of product $i$ stored at the end of month $j$, $i \\in I, j \\in J \\cup \\{0\\}$\n",
        "    \n",
        "    \n",
        "- Model\n",
        "$$\n",
        "\\begin{array}{lll}\n",
        "  \\min & \\sum_{i \\in I,j\\in J} r_i v_{ij} - c_{i} x_{ij} - m_i z_{ij} \\qquad & & \\text{(revenue)}\\\\\n",
        "  \\textrm{s. t.}\n",
        "  & v_{ij} \\leq d_{ij} & i \\in I, j \\in J & \\text{(demand)}\\\\\n",
        "  & \\sum_{i \\in I} \\frac{x_{ij}}{q_i} \\leq b_j & j \\in J & \\text{(production)}\\\\\n",
        "  & z_{i,j-1} + x_{ij} = z_{ij} + v_{ij} & i \\in I, j \\in J & \\text{(balance)}\\\\\n",
        "  & z_{i,0} = 0 & i \\in I & \\text{(init)}\\\\\n",
        "  & \\sum_{i \\in I} z_{ij} \\leq K & j \\in J & \\text{(capacity)}\\\\\n",
        "  & x_{ij} \\in \\mathbb{Z}^{+} & i \\in I, j \\in J &  \\text{(nonnegativity, integrality)}\\\\\n",
        "  & v_{ij} \\geq 0 & i\\in I, j \\in J & \\text{(nonnegativity)}\\\\\n",
        "  & z_{ij} \\geq 0 & i\\in I, j\\in I\\cup\\{0\\} & \\text{(nonnegativity)}\n",
        "\\end{array}\n",
        "$$\n",
        "\n",
        "The introduction of variable $z_{ij}$ for month 0 (constraint init) is necessary for the correctness of the balance constraint. Note that it suffices to impose the integrality on $x_{ij}$ to guarantee that $v_{ij}$ and $z_{ij}$ will be integral as well because of the balance constraint.\n"
      ],
      "metadata": {
        "id": "YpdVno0zvYWD"
      }
    },
    {
      "cell_type": "markdown",
      "metadata": {
        "id": "mllqY4f1Jp8s"
      },
      "source": [
        "<h3>Optional questions<h3>"
      ]
    },
    {
      "cell_type": "markdown",
      "metadata": {
        "id": "f9iX3AUdJp8s"
      },
      "source": [
        "1. Give a formulation for the variant where a minimum lot size is required whenever a product, per month, is produced, and where a fixed cost is charged, per month and product, whenever the production line for the corresponding product is active. Use the data:\n",
        "\n",
        "Product|A1|A2|A3\n",
        "-------|--|--|--\n",
        "Fixed cost|150000|150000|100000\n",
        "Minimum lot size|20|20|16\n",
        "\n",
        "\n",
        "2. Assess the effect of integrality for the variant of the problem. Do you expect the difference between the integer and continuous solutions to be larger in this case?"
      ]
    },
    {
      "cell_type": "code",
      "execution_count": 213,
      "metadata": {
        "colab": {
          "base_uri": "https://localhost:8080/"
        },
        "id": "y8q6anRE6Onq",
        "outputId": "48b9cfe6-44ff-42b3-a2c0-41c909c5c209"
      },
      "outputs": [
        {
          "output_type": "stream",
          "name": "stdout",
          "text": [
            "Requirement already satisfied: cffi==1.15.0 in /usr/local/lib/python3.10/dist-packages (1.15.0)\n",
            "Requirement already satisfied: pycparser in /usr/local/lib/python3.10/dist-packages (from cffi==1.15.0) (2.22)\n",
            "Requirement already satisfied: mip in /usr/local/lib/python3.10/dist-packages (1.15.0)\n",
            "Requirement already satisfied: cffi==1.15.* in /usr/local/lib/python3.10/dist-packages (from mip) (1.15.0)\n",
            "Requirement already satisfied: pycparser in /usr/local/lib/python3.10/dist-packages (from cffi==1.15.*->mip) (2.22)\n"
          ]
        }
      ],
      "source": [
        "# When using Colab, make sure you run this instruction beforehand\n",
        "!pip install --upgrade cffi==1.15.0\n",
        "import importlib\n",
        "import cffi\n",
        "importlib.reload(cffi)\n",
        "!pip install mip"
      ]
    },
    {
      "cell_type": "code",
      "execution_count": 214,
      "metadata": {
        "id": "ErmniU0Rz87y"
      },
      "outputs": [],
      "source": [
        "import mip\n",
        "from mip import BINARY,INTEGER\n",
        "# Number of products\n",
        "n_product = 3\n",
        "# Number of months\n",
        "n_months = 4\n",
        "\n",
        "# Set of products\n",
        "I = range(n_product)\n",
        "# Set of months\n",
        "J = range(1, n_months+1)\n",
        "\n",
        "# Working days per month\n",
        "b = [22, 20, 23, 22]\n",
        "# Maximum demand, per product and month\n",
        "d = [[5300, 1200, 7400, 5300], [4500, 5400, 6500, 7200], [4400, 6700, 12500, 13200]]\n",
        "\n",
        "# Price of each product (Euro)\n",
        "r = [124, 109, 115]\n",
        "# Unit production cost (Euro)\n",
        "c = [75, 53, 65]\n",
        "\n",
        "# Maximum number of pieces that can be produced in a single day (pieces/day)\n",
        "q = [500, 450, 550]\n",
        "# Inventory cost per month and unit\n",
        "m = [3, 4, 2]\n",
        "\n",
        "# Maximum number of total units of the three products that can be stored\n",
        "K = 800\n",
        "\n",
        "# Fixed cost charged per month and product\n",
        "f = [150000, 150000, 100000]\n",
        "# Minimum lot size per product and month\n",
        "l = [20, 20, 16]"
      ]
    },
    {
      "cell_type": "code",
      "execution_count": 215,
      "metadata": {
        "id": "HCFODnju5hiG"
      },
      "outputs": [],
      "source": [
        "# Model definition\n",
        "model = mip.Model()"
      ]
    },
    {
      "cell_type": "code",
      "execution_count": 216,
      "metadata": {
        "id": "3hX4g0-P5bxV"
      },
      "outputs": [],
      "source": [
        "# quantity of product i produced in month j\n",
        "x = {(i, j): model.add_var(var_type=INTEGER, lb=0, name=f\"(x_{i},{j})\") for i in I for j in J}\n",
        "# quantity of product i sold in month j\n",
        "v = {(i, j): model.add_var(var_type=INTEGER, lb=0, name=f\"(y_{i},{j})\") for i in I for j in J}\n",
        "# quantity of product i stored at the end of month j\n",
        "z = {(i, j): model.add_var(var_type=INTEGER, lb=0, name=f\"(z_{i},{j})\") for i in I for j in range(n_months+1)}"
      ]
    },
    {
      "cell_type": "code",
      "execution_count": 217,
      "metadata": {
        "id": "POXc4LrF6UNk"
      },
      "outputs": [],
      "source": [
        "# maximizing the revenue\n",
        "model.objective = mip.maximize(mip.xsum(v[i, j] * r[i]  for i in I for j in J) -mip.xsum(x[i, j] * c[i] for i in I for j in J) - mip.xsum(z[i, j] * m[i] for i in I for j in J))"
      ]
    },
    {
      "cell_type": "code",
      "execution_count": 218,
      "metadata": {
        "id": "VMXNWppu9_RT"
      },
      "outputs": [],
      "source": [
        "# Demand constraint\n",
        "for i in I:\n",
        "  for j in J:\n",
        "    model.add_constr(v[i, j] <= d[i][j-1])\n",
        "\n",
        "\n",
        "# Production constraint\n",
        "for j in J:\n",
        "  model.add_constr(mip.xsum(x[i, j] / q[i] for i in I) <=  b[j-1])\n",
        "\n",
        "# Balance constraint\n",
        "for i in I:\n",
        "  for j in J:\n",
        "    model.add_constr(x[i, j] - v[i, j] == z[i, j])\n",
        "\n",
        "# Init constraint\n",
        "for i in I:\n",
        "  model.add_constr(z[i, 1] == 0)\n",
        "\n",
        "# Capacity constraint\n",
        "for j in J:\n",
        "  model.add_constr(mip.xsum(z[i, j] for i in I) <= K)"
      ]
    },
    {
      "cell_type": "code",
      "execution_count": 219,
      "metadata": {
        "colab": {
          "base_uri": "https://localhost:8080/"
        },
        "id": "rLgt99kqVHUh",
        "outputId": "8c7ddc1b-010d-46e3-c178-2a15b930bbce"
      },
      "outputs": [
        {
          "output_type": "execute_result",
          "data": {
            "text/plain": [
              "<OptimizationStatus.OPTIMAL: 0>"
            ]
          },
          "metadata": {},
          "execution_count": 219
        }
      ],
      "source": [
        "# optimizing\n",
        "model.optimize()"
      ]
    },
    {
      "cell_type": "code",
      "execution_count": 220,
      "metadata": {
        "colab": {
          "base_uri": "https://localhost:8080/"
        },
        "id": "Mg1VQxA9VI_8",
        "outputId": "17a46bb6-0061-4bec-e7d5-9f4b3d2deede"
      },
      "outputs": [
        {
          "output_type": "execute_result",
          "data": {
            "text/plain": [
              "2338840.0"
            ]
          },
          "metadata": {},
          "execution_count": 220
        }
      ],
      "source": [
        "# optimal objective function value\n",
        "model.objective.x"
      ]
    },
    {
      "cell_type": "code",
      "execution_count": 221,
      "metadata": {
        "colab": {
          "base_uri": "https://localhost:8080/"
        },
        "id": "T3LoIF8HVV4W",
        "outputId": "0c16a254-5652-4ca3-8406-bdfa2b93567d",
        "scrolled": true
      },
      "outputs": [
        {
          "output_type": "stream",
          "name": "stdout",
          "text": [
            "x\n",
            " 2000.0     0.0     0.0     0.0 \n",
            " 4500.0  3518.0   122.0     0.0 \n",
            " 4400.0  6700.0 12500.0 12100.0 \n",
            "v\n",
            " 2000.0     0.0     0.0     0.0 \n",
            " 4500.0  3518.0   122.0     0.0 \n",
            " 4400.0  6700.0 12500.0 12100.0 \n",
            "z\n",
            "    0.0     0.0     0.0     0.0 \n",
            "    0.0     0.0     0.0     0.0 \n",
            "    0.0     0.0     0.0     0.0 \n"
          ]
        }
      ],
      "source": [
        "# print the optimal values of each variables\n",
        "print(\"x\")\n",
        "for i in I:\n",
        "    for j in J:\n",
        "        print(\"{:-7}\".format(x[i,j].x), end=\" \")\n",
        "    print()\n",
        "print(\"v\")\n",
        "for i in I:\n",
        "    for j in J:\n",
        "        print(f\"{v[i,j].x:-7}\", end=\" \")\n",
        "    print()\n",
        "print(\"z\")\n",
        "for i in I:\n",
        "    for j in J:\n",
        "        print(f\"{z[i,j].x:-7}\", end=\" \")\n",
        "    print()"
      ]
    },
    {
      "cell_type": "code",
      "execution_count": 222,
      "metadata": {
        "id": "eQEwAjOFBHkQ"
      },
      "outputs": [],
      "source": [
        "# definition of the new model\n",
        "model1 = mip.Model()"
      ]
    },
    {
      "cell_type": "code",
      "execution_count": 223,
      "metadata": {
        "id": "NS2AuweLBLD8"
      },
      "outputs": [],
      "source": [
        "# quantity of product i produced in month j\n",
        "x = {(i, j): model1.add_var(name ='x('+str(i)+','+str(j)+')', var_type=INTEGER, lb=0) for i in I for j in J}\n",
        "# quantity of product i sold in month j\n",
        "v = {(i, j): model1.add_var(name ='v('+str(i)+','+str(j)+')', lb=0) for i in I for j in J}\n",
        "# quantity of product i stored at the end of month j\n",
        "z = {(i, j): model1.add_var(name ='z('+str(i)+','+str(j)+')', lb=0) for i in I for j in range(n_months+1)}\n",
        "# binary variable: 1 if product i is produced in month j, 0 else\n",
        "y = {(i, j): model1.add_var(name ='y('+str(i)+','+str(j)+')', var_type=BINARY) for i in I for j in J}"
      ]
    },
    {
      "cell_type": "code",
      "execution_count": 224,
      "metadata": {
        "id": "O4kevA-4Bi0J"
      },
      "outputs": [],
      "source": [
        "model1.objective = mip.maximize(mip.xsum(r[i]*v[i, j] - c[i]*x[i, j] - m[i]*z[i, j] - f[i]*y[i, j] for i in I for j in J))"
      ]
    },
    {
      "cell_type": "code",
      "execution_count": 225,
      "metadata": {
        "id": "7nf5V9xnBXU8"
      },
      "outputs": [],
      "source": [
        "# Demand constraint\n",
        "for i in I:\n",
        "  for j in J:\n",
        "    model1.add_constr(v[i, j] <= d[i][j-1])\n",
        "\n",
        "# Production constraint\n",
        "for j in J:\n",
        "  model1.add_constr(mip.xsum(x[i, j] / q[i] for i in I) <= b[j-1] )\n",
        "\n",
        "# Balance constraint\n",
        "for i in I:\n",
        "  for j in J:\n",
        "    model1.add_constr(z[i, j-1] + x[i, j] == z[i, j] + v[i, j])\n",
        "\n",
        "# Init constraint\n",
        "for i in I:\n",
        "  model1.add_constr(z[i, 0] == 0)\n",
        "\n",
        "# Capacity constraint\n",
        "for j in J:\n",
        "  model1.add_constr(mip.xsum(z[i, j] for i in I) <= K)\n",
        "\n",
        "# Activation constraint\n",
        "for i in I:\n",
        "  for j in J:\n",
        "    model1.add_constr(x[i, j] <= b[j-1] * q[i] * y[i, j])\n",
        "\n",
        "# Lot size constraint\n",
        "for i in I:\n",
        "  for j in J:\n",
        "    model1.add_constr(x[i, j] >= l[i] * y[i, j])"
      ]
    },
    {
      "cell_type": "code",
      "execution_count": 226,
      "metadata": {
        "colab": {
          "base_uri": "https://localhost:8080/"
        },
        "id": "vvYpNG9QXsja",
        "outputId": "4f490124-a7bb-4f11-fcca-5bcffb390ed2"
      },
      "outputs": [
        {
          "output_type": "execute_result",
          "data": {
            "text/plain": [
              "<OptimizationStatus.OPTIMAL: 0>"
            ]
          },
          "metadata": {},
          "execution_count": 226
        }
      ],
      "source": [
        "# optimizing\n",
        "model1.optimize()"
      ]
    },
    {
      "cell_type": "code",
      "execution_count": 227,
      "metadata": {
        "colab": {
          "base_uri": "https://localhost:8080/"
        },
        "id": "Qhq6ACanYJM-",
        "outputId": "f3c28fb2-47cf-4b4f-aac4-fb714095aec9"
      },
      "outputs": [
        {
          "output_type": "execute_result",
          "data": {
            "text/plain": [
              "1585836.0"
            ]
          },
          "metadata": {},
          "execution_count": 227
        }
      ],
      "source": [
        "# optimal objective function value\n",
        "model1.objective.x"
      ]
    },
    {
      "cell_type": "code",
      "execution_count": 228,
      "metadata": {
        "colab": {
          "base_uri": "https://localhost:8080/"
        },
        "id": "RXn9qLiRayub",
        "outputId": "5552f2df-c507-4c06-846d-ef700014ba0f",
        "scrolled": true
      },
      "outputs": [
        {
          "output_type": "stream",
          "name": "stdout",
          "text": [
            "x\n",
            " 6100.0     0.0     0.0     0.0 \n",
            "    0.0  2988.0     0.0     0.0 \n",
            " 4400.0  7348.0 12650.0 12100.0 \n",
            "v\n",
            " 5300.0   800.0     0.0     0.0 \n",
            "    0.0  2988.0     0.0     0.0 \n",
            " 4400.0  6700.0 12500.0 12898.0 \n",
            "y\n",
            "    1.0     0.0     0.0     0.0 \n",
            "    0.0     1.0     0.0     0.0 \n",
            "    1.0     1.0     1.0     1.0 \n",
            "z\n",
            "  800.0     0.0    -0.0     0.0 \n",
            "    0.0    -0.0     0.0     0.0 \n",
            "    0.0   648.0   798.0     0.0 \n"
          ]
        }
      ],
      "source": [
        "# print the optimal values of each variables\n",
        "print(\"x\")\n",
        "for i in I:\n",
        "    for j in J:\n",
        "        print(f\"{x[i,j].x:-7}\", end=\" \")\n",
        "    print()\n",
        "print(\"v\")\n",
        "for i in I:\n",
        "    for j in J:\n",
        "        print(f\"{v[i,j].x:-7}\", end=\" \")\n",
        "    print()\n",
        "print(\"y\")\n",
        "for i in I:\n",
        "    for j in J:\n",
        "        print(f\"{y[i,j].x:-7.3}\", end=\" \")\n",
        "    print()\n",
        "print(\"z\")\n",
        "for i in I:\n",
        "    for j in J:\n",
        "        print(f\"{z[i,j].x:-7}\", end=\" \")\n",
        "    print()"
      ]
    }
  ],
  "metadata": {
    "colab": {
      "provenance": [],
      "include_colab_link": true
    },
    "kernelspec": {
      "display_name": "Python 3",
      "language": "python",
      "name": "python3"
    },
    "language_info": {
      "codemirror_mode": {
        "name": "ipython",
        "version": 3
      },
      "file_extension": ".py",
      "mimetype": "text/x-python",
      "name": "python",
      "nbconvert_exporter": "python",
      "pygments_lexer": "ipython3",
      "version": "3.6.8"
    }
  },
  "nbformat": 4,
  "nbformat_minor": 0
}