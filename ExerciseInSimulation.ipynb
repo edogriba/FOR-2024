{
  "nbformat": 4,
  "nbformat_minor": 0,
  "metadata": {
    "colab": {
      "provenance": [],
      "authorship_tag": "ABX9TyM7g4KlvwfNr6nlCNsUm092",
      "include_colab_link": true
    },
    "kernelspec": {
      "name": "python3",
      "display_name": "Python 3"
    },
    "language_info": {
      "name": "python"
    }
  },
  "cells": [
    {
      "cell_type": "markdown",
      "metadata": {
        "id": "view-in-github",
        "colab_type": "text"
      },
      "source": [
        "<a href=\"https://colab.research.google.com/github/edogriba/FOR-2024/blob/main/ExerciseInSimulation.ipynb\" target=\"_parent\"><img src=\"https://colab.research.google.com/assets/colab-badge.svg\" alt=\"Open In Colab\"/></a>"
      ]
    },
    {
      "cell_type": "code",
      "execution_count": 1,
      "metadata": {
        "colab": {
          "base_uri": "https://localhost:8080/"
        },
        "id": "guMgYKlh011v",
        "outputId": "06b1c0cd-9e18-48cb-a0b4-1b99eac2e19c"
      },
      "outputs": [
        {
          "output_type": "stream",
          "name": "stdout",
          "text": [
            "Requirement already satisfied: cffi==1.15.0 in /usr/local/lib/python3.10/dist-packages (1.15.0)\n",
            "Requirement already satisfied: pycparser in /usr/local/lib/python3.10/dist-packages (from cffi==1.15.0) (2.22)\n",
            "Requirement already satisfied: mip in /usr/local/lib/python3.10/dist-packages (1.15.0)\n",
            "Requirement already satisfied: cffi==1.15.* in /usr/local/lib/python3.10/dist-packages (from mip) (1.15.0)\n",
            "Requirement already satisfied: pycparser in /usr/local/lib/python3.10/dist-packages (from cffi==1.15.*->mip) (2.22)\n"
          ]
        }
      ],
      "source": [
        "!pip install --upgrade cffi==1.15.0\n",
        "import importlib\n",
        "import cffi\n",
        "importlib.reload(cffi)\n",
        "!pip install mip"
      ]
    },
    {
      "cell_type": "code",
      "source": [
        "import mip\n",
        "from mip import BINARY, INTEGER\n",
        "\n",
        "# Define parameters\n",
        "n = 3  # Number of elements in set I\n",
        "m = 3  # Number of elements in set J\n",
        "I = range(1, n+1)\n",
        "J = range(1, m+1)\n",
        "d = [[1, 2, 3, 4], [2, 3, 4, 1], [4, 1, 2, 3]]  # Cost matrix d_ij"
      ],
      "metadata": {
        "id": "t5iMzGfC08r2"
      },
      "execution_count": 12,
      "outputs": []
    },
    {
      "cell_type": "code",
      "source": [
        "model = mip.Model()"
      ],
      "metadata": {
        "id": "YNSE3aoT1Wyn"
      },
      "execution_count": 3,
      "outputs": []
    },
    {
      "cell_type": "code",
      "source": [
        "x = {i: model.add_var(var_type=BINARY, name=f\"x_{i}\") for i in I}\n",
        "y = {(i, j): model.add_var(var_type=INTEGER, name=f\"y_{i}{j}\") for i in I for j in J}"
      ],
      "metadata": {
        "id": "1iozsSD01Z9d"
      },
      "execution_count": 6,
      "outputs": []
    },
    {
      "cell_type": "code",
      "source": [
        "model.objective = mip.minimize(mip.xsum(d[i-1][j-1]*y[i, j] for i in I for j in J)+mip.xsum(100*x[i] for i in I))"
      ],
      "metadata": {
        "id": "ppGjaQ-YLUOA"
      },
      "execution_count": 7,
      "outputs": []
    },
    {
      "cell_type": "code",
      "source": [
        "for i in I:\n",
        "  model.add_constr(mip.xsum(y[i, j] for j in J) <= x[i] )"
      ],
      "metadata": {
        "id": "-cj3czSxMftT"
      },
      "execution_count": 8,
      "outputs": []
    },
    {
      "cell_type": "code",
      "source": [
        "model.optimize()"
      ],
      "metadata": {
        "colab": {
          "base_uri": "https://localhost:8080/"
        },
        "id": "2Bqsle4jMtn6",
        "outputId": "cb1f02c0-63e4-4685-8605-67c072095318"
      },
      "execution_count": 9,
      "outputs": [
        {
          "output_type": "execute_result",
          "data": {
            "text/plain": [
              "<OptimizationStatus.OPTIMAL: 0>"
            ]
          },
          "metadata": {},
          "execution_count": 9
        }
      ]
    },
    {
      "cell_type": "code",
      "source": [
        "model.objective.x"
      ],
      "metadata": {
        "colab": {
          "base_uri": "https://localhost:8080/"
        },
        "id": "vqrWR_foMzQ5",
        "outputId": "953dd267-dce8-4910-9d86-6e61715aa625"
      },
      "execution_count": 11,
      "outputs": [
        {
          "output_type": "execute_result",
          "data": {
            "text/plain": [
              "0.0"
            ]
          },
          "metadata": {},
          "execution_count": 11
        }
      ]
    }
  ]
}