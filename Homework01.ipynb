{
  "cells": [
    {
      "cell_type": "markdown",
      "metadata": {
        "id": "view-in-github",
        "colab_type": "text"
      },
      "source": [
        "<a href=\"https://colab.research.google.com/github/edogriba/FOR-2024/blob/main/Homework01.ipynb\" target=\"_parent\"><img src=\"https://colab.research.google.com/assets/colab-badge.svg\" alt=\"Open In Colab\"/></a>"
      ]
    },
    {
      "cell_type": "markdown",
      "metadata": {
        "id": "Tcgpium3ZPJV"
      },
      "source": [
        "## Electronic device manufacturing\n",
        "\n",
        "A manager has to plan the production for his firm for a single day. Five models of electronic devices can be produced, exploiting the handwork of 3 workers. The time needed by each worker to manufacture an electronic device of each model is indicated in the following table (hours/unit):\n",
        "\n",
        "Model/Worker|1|2|3\n",
        "------------|-|-|-\n",
        "1|1.5|3.5|4\n",
        "2|1.8|2|3\n",
        "3|2|1|2.5\n",
        "4|2.5|1.5|3.5\n",
        "5|3.5|3.5|4.2\n",
        "\n",
        "Due to production constraints imposed by the unions, each worker must work no less than 8 hours a day, but no more than 10.\n",
        "\n",
        "The table below indicates, for each model of device, the selling price and an estimation of the maximal market demand:\n",
        "\n",
        "Model|Price|Demand\n",
        "-----|-----|------\n",
        "1|56|4\n",
        "2|86|3\n",
        "3|45|3\n",
        "4|42|5\n",
        "5|65|8\n",
        "\n",
        "Give an integer linear programming formulation to the problem of maximizing the revenue,\n",
        "subject to production and demand constraints."
      ]
    },
    {
      "cell_type": "markdown",
      "source": [
        "### Let's model the problem\n",
        "\n",
        "1. Sets\n",
        "\n",
        "- $ I $ set of workers\n",
        "- $ J $ set of electronic devices\n",
        "\n",
        "2. Parameters\n",
        "\n",
        "- $ t_{ij} $ manufacturing time for worker $ i \\in I $ to manufacture device $ j \\in J$\n",
        "\n",
        "- $ p_j $ selling price of electronic device $ j \\in J $\n",
        "\n",
        "- $ d_j $ demand for electronic device $ j \\in J $\n",
        "\n",
        "- $ T_{min} $ minimum working time for workers\n",
        "\n",
        "- $ T_{max} $ maximum working time for workers\n",
        "\n",
        "\n",
        "3. Decision variables\n",
        "\n",
        "- $ x_{ij} $ number of units produced of an electronic device $ j \\in J $ by the worker $ i \\in I $\n",
        "\n",
        "4. Objective function\n",
        "\n",
        "- max $ r = \\sum_i p_i  d_i $\n",
        "\n",
        "5. Constraints\n",
        "\n",
        "- $ \\sum_{i} x_{ij} t_{ij} \\leq 10 $\n",
        "\n",
        "- $ \\sum_{i} x_{ij} t_{ij} \\geq 8 $\n",
        "\n",
        "- $ \\sum_{j} x_{ij} \\leq d_{j} $"
      ],
      "metadata": {
        "id": "IdszkT9Hhv3m"
      }
    },
    {
      "cell_type": "code",
      "execution_count": 1,
      "metadata": {
        "colab": {
          "base_uri": "https://localhost:8080/"
        },
        "id": "NE7tSQFlZSML",
        "outputId": "010cda89-c4c1-488f-8a04-6f38b16bd7d6"
      },
      "outputs": [
        {
          "output_type": "stream",
          "name": "stdout",
          "text": [
            "Requirement already satisfied: mip in /usr/local/lib/python3.10/dist-packages (1.15.0)\n",
            "Requirement already satisfied: cffi==1.15.* in /usr/local/lib/python3.10/dist-packages (from mip) (1.15.1)\n",
            "Requirement already satisfied: pycparser in /usr/local/lib/python3.10/dist-packages (from cffi==1.15.*->mip) (2.22)\n"
          ]
        }
      ],
      "source": [
        "# When using Colab, make sure you run this instruction beforehand\n",
        "!pip install mip"
      ]
    },
    {
      "cell_type": "code",
      "execution_count": 2,
      "metadata": {
        "id": "WCQpxLhbZSfh"
      },
      "outputs": [],
      "source": [
        "# We need to import the package mip\n",
        "import mip\n",
        "from mip import INTEGER"
      ]
    },
    {
      "cell_type": "code",
      "execution_count": 3,
      "metadata": {
        "id": "rXaiWfjrZb3i"
      },
      "outputs": [],
      "source": [
        "# Set of workers\n",
        "I = {1, 2, 3}\n",
        "\n",
        "# Set of electronic devices\n",
        "J = {1, 2, 3, 4, 5}\n",
        "\n",
        "# Manufacturing time for workers and model of electronic devices\n",
        "t = {(1, 1): 1.5, (1, 2): 1.8, (1,3): 2, (1, 4): 2.5, (1, 5): 3.5, (2, 1): 3.5, (2, 2): 2, (2, 3): 1, (2, 4): 1.5, (2, 5): 3.5, (3, 1): 4, (3, 2): 3, (3, 3): 2.5, (3, 4): 3.5, (3, 5): 4.2}\n",
        "\n",
        "# Selling price for model of electronic devices\n",
        "p = {1: 56, 2: 86, 3: 45, 4: 42, 5: 65}\n",
        "\n",
        "# Demand for model of electronic devices\n",
        "d = {1: 4, 2: 3, 3: 3, 4: 5, 5: 8}\n",
        "\n",
        "# Minimum amount of working hours\n",
        "T_min = 8\n",
        "\n",
        "# Maximum amount of working hours\n",
        "T_max = 10"
      ]
    },
    {
      "cell_type": "markdown",
      "metadata": {
        "id": "YdJ_k8ITdMhm"
      },
      "source": [
        "Now we create an empty model and add the variables:"
      ]
    },
    {
      "cell_type": "code",
      "execution_count": 4,
      "metadata": {
        "id": "jzUlEOEOatR-"
      },
      "outputs": [],
      "source": [
        "# Define a model\n",
        "model = mip.Model()\n",
        "\n",
        "# Define variables\n",
        "x = {(i, j): model.add_var(var_type=INTEGER, name=f\"{i},{j}\") for i in I for j in J}"
      ]
    },
    {
      "cell_type": "markdown",
      "metadata": {
        "id": "pSh0Z7r8fSxk"
      },
      "source": [
        "Now we create the objective function:"
      ]
    },
    {
      "cell_type": "code",
      "execution_count": 6,
      "metadata": {
        "id": "sCjgs6Pvd44f"
      },
      "outputs": [],
      "source": [
        "# Define the objective function\n",
        "model.objective = mip.maximize(mip.xsum(p[j] * x[i, j] for i in I for j in J))"
      ]
    },
    {
      "cell_type": "markdown",
      "metadata": {
        "id": "f5g6ka6hfq8M"
      },
      "source": [
        "The constraints can be generated in loops:"
      ]
    },
    {
      "cell_type": "code",
      "execution_count": 7,
      "metadata": {
        "id": "uk13yONTfluc"
      },
      "outputs": [],
      "source": [
        "# CONSTRAINTS\n",
        "# Minimum working hours\n",
        "for i in I:\n",
        "  model.add_constr(mip.xsum(x[i, j] * t[i, j] for j in J) >= T_min)\n",
        "\n",
        "# Maximum working hours\n",
        "for i in I:\n",
        "  model.add_constr(mip.xsum(x[i, j] * t[i, j] for j in J) <= T_max)\n",
        "\n",
        "# Maximum quantity\n",
        "for j in J:\n",
        "  model.add_constr(mip.xsum(x[i, j] for i in I) <= d[j])"
      ]
    },
    {
      "cell_type": "markdown",
      "metadata": {
        "id": "_1if6R03ihk7"
      },
      "source": [
        "The model is complete. Let us solve it and print the optimal solution."
      ]
    },
    {
      "cell_type": "code",
      "execution_count": 8,
      "metadata": {
        "colab": {
          "base_uri": "https://localhost:8080/"
        },
        "id": "iGEXO8zLckSb",
        "outputId": "24f30456-fbbc-490b-ea1b-c53d7c255a6c"
      },
      "outputs": [
        {
          "output_type": "execute_result",
          "data": {
            "text/plain": [
              "<OptimizationStatus.OPTIMAL: 0>"
            ]
          },
          "metadata": {},
          "execution_count": 8
        }
      ],
      "source": [
        "# Optimizing command\n",
        "model.optimize()"
      ]
    },
    {
      "cell_type": "code",
      "execution_count": 9,
      "metadata": {
        "colab": {
          "base_uri": "https://localhost:8080/"
        },
        "id": "MsvXb6K0bf2I",
        "outputId": "b5cc7e70-01ba-4afb-bde1-163edcb88c23"
      },
      "outputs": [
        {
          "output_type": "execute_result",
          "data": {
            "text/plain": [
              "892.0"
            ]
          },
          "metadata": {},
          "execution_count": 9
        }
      ],
      "source": [
        "# Optimal objective function value\n",
        "model.objective.x"
      ]
    },
    {
      "cell_type": "code",
      "execution_count": 10,
      "metadata": {
        "colab": {
          "base_uri": "https://localhost:8080/"
        },
        "id": "Tbbi1xvgin3j",
        "outputId": "f0592c47-c6da-413b-fcd8-8c5384e70cba"
      },
      "outputs": [
        {
          "output_type": "stream",
          "name": "stdout",
          "text": [
            "1,1: 4.0\n",
            "1,2: 2.0\n",
            "1,3: 0.0\n",
            "1,4: 0.0\n",
            "1,5: 0.0\n",
            "2,1: 0.0\n",
            "2,2: 0.0\n",
            "2,3: 2.0\n",
            "2,4: 5.0\n",
            "2,5: 0.0\n",
            "3,1: 0.0\n",
            "3,2: 1.0\n",
            "3,3: 1.0\n",
            "3,4: 0.0\n",
            "3,5: 1.0\n"
          ]
        }
      ],
      "source": [
        "# Printing the variables values\n",
        "for i in model.vars:\n",
        "  print(f\"{i.name}: {i.x}\")"
      ]
    }
  ],
  "metadata": {
    "colab": {
      "provenance": [],
      "include_colab_link": true
    },
    "kernelspec": {
      "display_name": "Python 3",
      "language": "python",
      "name": "python3"
    },
    "language_info": {
      "codemirror_mode": {
        "name": "ipython",
        "version": 3
      },
      "file_extension": ".py",
      "mimetype": "text/x-python",
      "name": "python",
      "nbconvert_exporter": "python",
      "pygments_lexer": "ipython3",
      "version": "3.6.8"
    }
  },
  "nbformat": 4,
  "nbformat_minor": 0
}